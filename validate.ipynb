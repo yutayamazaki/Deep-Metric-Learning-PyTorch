{
 "cells": [
  {
   "cell_type": "code",
   "execution_count": 2,
   "metadata": {},
   "outputs": [],
   "source": [
    "import torch\n",
    "import torch.nn as nn\n",
    "import torch.nn.functional as F\n",
    "from torch.utils.data import DataLoader\n",
    "from torch.utils.data.dataset import Dataset\n",
    "import torchvision\n",
    "import torchvision.transforms as transforms\n",
    "\n",
    "import numpy as np\n",
    "from sklearn.cluster import KMeans\n",
    "from sklearn.model_selection import StratifiedKFold"
   ]
  },
  {
   "cell_type": "code",
   "execution_count": 3,
   "metadata": {},
   "outputs": [],
   "source": [
    "class TripletResNet(nn.Module):\n",
    "    def __init__(self, metric_dim, n_classes):\n",
    "        super(TripletResNet, self).__init__()\n",
    "        resnet = torchvision.models.__dict__['resnet18'](pretrained=True)\n",
    "        for params in resnet.parameters():\n",
    "            params.requires_grad = False\n",
    "\n",
    "        self.model = nn.Sequential(\n",
    "            resnet.conv1,\n",
    "            resnet.bn1,\n",
    "            resnet.relu,\n",
    "            resnet.maxpool,\n",
    "            resnet.layer1,\n",
    "            resnet.layer2,\n",
    "            resnet.layer3,\n",
    "            resnet.layer4,\n",
    "            resnet.avgpool,\n",
    "        )\n",
    "        self.fc1 = nn.Linear(resnet.fc.in_features, metric_dim)\n",
    "        self.fc2 = nn.Linear(metric_dim, n_classes)\n",
    "\n",
    "    def forward(self, x):\n",
    "        x = self.model(x)\n",
    "        x = x.view(x.size(0), -1)\n",
    "        metric = F.normalize(self.fc1(x))\n",
    "        classes = F.softmax(self.fc2(metric))\n",
    "        return metric, classes"
   ]
  },
  {
   "cell_type": "code",
   "execution_count": 4,
   "metadata": {},
   "outputs": [],
   "source": [
    "def load_filter_dataset(dataset):\n",
    "    images, labels = [], []\n",
    "    cat_counter = 0\n",
    "    for train in dataset:\n",
    "        X, y = train[0], train[1]\n",
    "        if y == 5: # dog\n",
    "            images.append(X)\n",
    "            labels.append(0)\n",
    "        elif y == 3: # cat\n",
    "            if cat_counter == 500:\n",
    "                continue\n",
    "            images.append(X)\n",
    "            labels.append(1)\n",
    "            cat_counter += 1\n",
    "    return torch.stack(images), torch.Tensor(labels)"
   ]
  },
  {
   "cell_type": "code",
   "execution_count": 5,
   "metadata": {},
   "outputs": [],
   "source": [
    "def load_dataset():\n",
    "    transform = transforms.Compose(\n",
    "        [transforms.Resize(224),\n",
    "         transforms.ToTensor(),\n",
    "         transforms.Normalize((0.5, 0.5, 0.5), (0.5, 0.5, 0.5))])\n",
    "\n",
    "    trainset = torchvision.datasets.CIFAR10(root='./data', train=True,\n",
    "                                            download=True, transform=transform)\n",
    "    testset = torchvision.datasets.CIFAR10(root='./data', train=False, \n",
    "                                           download=True, transform=transform)\n",
    "    X_train, y_train = load_filter_dataset(trainset)\n",
    "    X_test, y_test = load_filter_dataset(testset)\n",
    "\n",
    "    return X_train, X_test, y_train, y_test"
   ]
  },
  {
   "cell_type": "code",
   "execution_count": 6,
   "metadata": {},
   "outputs": [
    {
     "name": "stdout",
     "output_type": "stream",
     "text": [
      "Files already downloaded and verified\n",
      "Files already downloaded and verified\n"
     ]
    }
   ],
   "source": [
    "X_train, X_test, y_train, y_test = load_dataset()"
   ]
  },
  {
   "cell_type": "code",
   "execution_count": 25,
   "metadata": {},
   "outputs": [
    {
     "name": "stdout",
     "output_type": "stream",
     "text": [
      "\n"
     ]
    }
   ],
   "source": [
    "device = 'cpu'#torch.device('cuda' if torch.cuda.is_available() else 'cpu')\n",
    "model = TripletResNet(100, 2)\n",
    "model.to(device)\n",
    "\n",
    "model.load_state_dict(torch.load('./weights/triplet-angular_1.16779.pth'))\n",
    "model.eval()\n",
    "print()"
   ]
  },
  {
   "cell_type": "code",
   "execution_count": null,
   "metadata": {},
   "outputs": [],
   "source": [
    "train_metric, train_classes = model(X_train)\n",
    "test_metric, test_classes = model(X_test)\n",
    "\n",
    "train_metric = train_metric.detach().numpy()\n",
    "test_metric = test_metric.detach().numpy()\n",
    "test_classes = test_classes.detach().numpy()\n",
    "test_labels = test_classes.argmax(1)"
   ]
  },
  {
   "cell_type": "code",
   "execution_count": null,
   "metadata": {},
   "outputs": [],
   "source": []
  }
 ],
 "metadata": {
  "kernelspec": {
   "display_name": "Python 3",
   "language": "python",
   "name": "python3"
  },
  "language_info": {
   "codemirror_mode": {
    "name": "ipython",
    "version": 3
   },
   "file_extension": ".py",
   "mimetype": "text/x-python",
   "name": "python",
   "nbconvert_exporter": "python",
   "pygments_lexer": "ipython3",
   "version": "3.6.5"
  }
 },
 "nbformat": 4,
 "nbformat_minor": 2
}
